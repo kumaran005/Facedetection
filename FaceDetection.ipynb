{
 "metadata": {
  "language_info": {
   "codemirror_mode": {
    "name": "ipython",
    "version": 3
   },
   "file_extension": ".py",
   "mimetype": "text/x-python",
   "name": "python",
   "nbconvert_exporter": "python",
   "pygments_lexer": "ipython3",
   "version": "3.8.6-final"
  },
  "orig_nbformat": 2,
  "kernelspec": {
   "name": "python3",
   "display_name": "Python 3.8.6 64-bit",
   "metadata": {
    "interpreter": {
     "hash": "54054961b8618a98f6f3cc79e4f7849bff11f3bc565181d10b92d632bcc80394"
    }
   }
  }
 },
 "nbformat": 4,
 "nbformat_minor": 2,
 "cells": [
  {
   "cell_type": "code",
   "execution_count": 1,
   "metadata": {},
   "outputs": [],
   "source": [
    "import cv2\n",
    "from tkinter import *\n",
    "import os\n",
    "from tkinter import filedialog,messagebox,Button\n",
    "import tkinter as tk\n",
    "from PIL import Image,ImageTk\n",
    "\n",
    "root = Tk()\n",
    "menubar = Menu(root)\n",
    "\n",
    "def Browse():    \n",
    "    global image_path\n",
    "    image_path = filedialog.askopenfilename(\n",
    "                initialdir = os.getcwd(),title = \"Select Image File\",\n",
    "                filetypes=((\"JPG FILE\",\"*.jpg\"),(\"PNG FILE\",\"*.png\"),(\"ALL FILE\",\"*.*\")))\n",
    "\n",
    "    \n",
    "    image = Image.open(image_path)\n",
    "    image.thumbnail((700,400))\n",
    "    image = ImageTk.PhotoImage(image)\n",
    "    label.configure(image = image)\n",
    "    label.image = image\n",
    "            \n",
    "def Detect():\n",
    "    casc_path = \"haarcascade_frontalface_default.xml\"\n",
    "\n",
    "    face_Cascade = cv2.CascadeClassifier(casc_path)\n",
    "\n",
    "    image = cv2.imread(image_path)\n",
    "    gray = cv2.cvtColor(image,cv2.COLOR_BGR2GRAY)\n",
    "\n",
    "    faces = face_Cascade.detectMultiScale(\n",
    "        gray,\n",
    "        scaleFactor = 1.1,\n",
    "        minNeighbors = 5,\n",
    "        minSize = (30,30),\n",
    "        #flags = cv2.CV_HAAR_SCALE_IMAGE\n",
    "    )\n",
    "\n",
    "    Fd =(\"Found {0} faces\".format(len(faces)))\n",
    "    messagebox.showinfo(\"Detected\",Fd)\n",
    "    for (x,y,w,h) in faces:\n",
    "        cv2.rectangle(image,(x,y),(x+w,y+h),(0,255,0),2)\n",
    "\n",
    "    cv2.imshow(\"Faces Found\",image)\n",
    "    cv2.waitKey(0)\n",
    "    \n",
    "\n",
    "label = Label(root)\n",
    "label.pack()\n",
    "\n",
    "\n",
    "file = Menu(menubar,tearoff=1)\n",
    "\n",
    "file.add_command(label=\"Open\",command=Browse)\n",
    "file.add_command(label=\"Detect Faces\",command=Detect)\n",
    "\n",
    "file.add_separator()\n",
    "file.add_command(label=\"Exit\",command=lambda:root.destroy())\n",
    "menubar.add_cascade(label='File',menu=file)\n",
    "\n",
    "\n",
    "root.config(menu = menubar)\n",
    "root.geometry(\"700x400\")\n",
    "root.title(\"FaceDetection\")\n",
    "root.mainloop()"
   ]
  },
  {
   "cell_type": "code",
   "execution_count": null,
   "metadata": {},
   "outputs": [],
   "source": []
  }
 ]
}